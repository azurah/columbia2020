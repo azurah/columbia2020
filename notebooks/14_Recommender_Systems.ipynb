{
 "cells": [
  {
   "cell_type": "markdown",
   "metadata": {},
   "source": [
    "<img src=https://github.com/computationaljournalism/columbia2018/raw/master/images/maxresdefault.jpg width=500>\n",
    "    \n",
    "\n",
    "**Collaborative filtering**\n",
    "\n",
    "Now we are going to lay the groundwork for a cluster of computational tools that are filed under the names \"statistical modeling\", \"machine learning\", and even \"Artifical Intelligence\". We've seen various learning systems in previous lectures, and today we're going to examine a  so-called **recommender system**. One simple kind of recommendation is said to be  **content-based**. In the case of news, for example, recommended articles could be surfaced if you express interest in one topic or another. Other information about the stories could also be used to produce a ranking -- you might also include the number of \"likes\" or tweets, the publisher, the publication date and so on. \n",
    "\n",
    "This is the first of three approaches Alex Spangher wrote about in his NYT piece on their [next generation news recommender](https://open.blogs.nytimes.com/2015/08/11/building-the-next-new-york-times-recommendation-engine/). The second approach can be implemented without any information about content, and instead relies on how users rate or access content. On Amazon or Yelp or TripAdvisor, we have ratings that people provide for services. At the Times, we don't really have ratings, but instead we have whether or not someone read an article. **Collaborative filtering** uses patterns in these activities to make recommendations. (We \"filter\" items, recommending just a few, and this is a \"collaborative\" act because it relies on the input of others.)\n",
    "\n",
    "At the heart of collaborative filtering is something called a \"utility matrix\" or \"incidence matrix\". It's a table where rows refer to users (shoppers, readers), say, and columns are items (news articles, consumer goods). A recommendation system \"fills in\" or predicts how the user in row i will react to the object represented by column j -- that is, the table entry (i,j). Oh, math!\n",
    "\n",
    "So, here's a cartoon. Let's decide if we are going to recommend a great article on Climate Change to Nina. Nina is represented by row i in the incidence matrix and our Climate Change article is represented by column j. In row i we have 0's and 1's -- a 0 if Nina has not read the article and a 1 if she has. Column j is also filled with 0's and 1's, but this time an entry is 0 if the corresponding reader hasn't selected the article and 1 if he has. Got it? A row refers to the choices by a single user, and a column refers to the choices made by all our users for a single article. \n",
    "\n",
    "Now, we have two possible ways to use our incidence matrix, our table of 0's and 1's, to predict whether Nina will like our Climate Change article. The first is to find readers that are \"similar\" to Nina in terms of reading habits. That is, they have read some of the same articles or have 0's and 1's in the same places across their rows. We can take some number of readers who are most similar to Nina (the number always being called k) and then see what fraction read the article in question. In the image below, the gray band refers to the k readers who are similar to Nina and the red stripe highlights a column representing their reading of the single article. \n",
    "\n",
    "<img src=https://github.com/computationaljournalism/columbia2018/raw/master/images/abcabc.001.jpeg width=700>\n",
    "\n",
    "The second approach to fill in the (i,j) entry of a table like this would be to look at  articles similar to the Climate Change piece we want to recommend to Nina. Articles are similar if they were read (or not) by the same people. We can then take the k most similar articles and see what fraction of them Nina has read. If it's high, we recommend the article to her. The figure below is just the flip of the one we've seen. The grey band is now similar articles to the given one and the red stripe looks at whether or not Nina read these. \n",
    "\n",
    "<img src=https://github.com/computationaljournalism/columbia2018/raw/master/images/abcabc.002.jpeg width=700>\n",
    "\n",
    "This seems pretty straightforward (I hope). The techniques here are referred to as \"k-nearest neighbors\" (or KNN or kNN). It's actually a pretty powerful machine learning (well, statistical) technique. And we leverage this kind of scheme all the time -- your doctor, for example, distills \"you\" into a row in a table, a height, a weight, a blood pressure, maybe some facts from your medical history. She then gives you advice about dropping a few pounds, say by what the medical profession knows about people like you. The idea is that the health outcomes of people \"similar\" to you can help predict what's around the corner for you. \n",
    "\n",
    "The key ideas here are pretty fundamental and **they have to do with distance.** (Again.) Rows, for example, can be compared. In the case of collaborative filtering, we can evaluate one reader relative to another, marking some as close (likeminded, similar tastes) and others as far (red state, different tastes). This is a basic, mathematical abstraction that machine learning applies to all tables. Rows are points in a \"high-dimensional space\". (The same is true for columns, of course, except that it's typical to have tables -- spreadsheets-- organized so that rows refer to units of observation and columns refer to their characteristics.)\n",
    "\n",
    "Let's see an incidence matrix from a real application. This is a little perverse, but it was the best I could do, try as I might."
   ]
  },
  {
   "cell_type": "markdown",
   "metadata": {},
   "source": [
    "<img src=https://github.com/computationaljournalism/columbia2018/raw/master/images/recommender-systems-13-638.jpg width=500>\n",
    "    \n",
    "\n",
    "**Collaborative baking**\n",
    "\n",
    "So far, this is pretty straightforward (I hope). The techniques here are referred to ask \"k-nearest neighbors\" (or KNN or kNN). It's actually a pretty powerful machine learning (well, statistical) technique. And we leverage this kind of scheme all the time -- your doctor, for example, distills \"you\" into a row in a table, a height, a weight, a blood pressure, maybe some facts from your medical history. She then gives you advice about dropping a few pounds, say by what the medical profession knows about people like you. The idea is that the health outcomes of people \"similar\" to you can help predict what's around the corner for you. \n",
    "\n",
    "The key ideas here are pretty fundamental and **they have to do with distance.** Rows, for example, can be compared. In the case of collaborative filtering, we can evaluate one recipe relative to another, marking some as close (similar ingredients) and others as far (different tastes). This is a basic, mathematical abstraction that machine learning applies to all tables. Rows are points in a \"high-dimensional space\". (The same is true for columns, of course, except that it's typical to have tables -- spreadsheets-- organized so that rows refer to units of observation and columns refer to their characteristics.)\n",
    "\n",
    "Let's see an incidence matrix from our cakes data set. It is weenie, but I'm down the rabbit hole now."
   ]
  },
  {
   "cell_type": "code",
   "execution_count": 1,
   "metadata": {},
   "outputs": [],
   "source": [
    "from pandas import read_csv\n",
    "cakes = read_csv(\"https://github.com/computationaljournalism/columbia2020/raw/master/data/cakes.csv\")"
   ]
  },
  {
   "cell_type": "code",
   "execution_count": 2,
   "metadata": {},
   "outputs": [
    {
     "data": {
      "text/html": [
       "<div>\n",
       "<style scoped>\n",
       "    .dataframe tbody tr th:only-of-type {\n",
       "        vertical-align: middle;\n",
       "    }\n",
       "\n",
       "    .dataframe tbody tr th {\n",
       "        vertical-align: top;\n",
       "    }\n",
       "\n",
       "    .dataframe thead th {\n",
       "        text-align: right;\n",
       "    }\n",
       "</style>\n",
       "<table border=\"1\" class=\"dataframe\">\n",
       "  <thead>\n",
       "    <tr style=\"text-align: right;\">\n",
       "      <th></th>\n",
       "      <th>macadamia nuts</th>\n",
       "      <th>bran cereal</th>\n",
       "      <th>grape juice</th>\n",
       "      <th>milk</th>\n",
       "      <th>blueberries</th>\n",
       "      <th>pineapple juice</th>\n",
       "      <th>triple sec</th>\n",
       "      <th>couscous</th>\n",
       "      <th>biscuit baking mix</th>\n",
       "      <th>icing</th>\n",
       "      <th>...</th>\n",
       "      <th>tomato soup</th>\n",
       "      <th>pear</th>\n",
       "      <th>brandy</th>\n",
       "      <th>orange extract</th>\n",
       "      <th>masa</th>\n",
       "      <th>potato</th>\n",
       "      <th>margarita mix</th>\n",
       "      <th>almond meal</th>\n",
       "      <th>berries</th>\n",
       "      <th>candied orange peel</th>\n",
       "    </tr>\n",
       "  </thead>\n",
       "  <tbody>\n",
       "    <tr>\n",
       "      <th>0</th>\n",
       "      <td>0</td>\n",
       "      <td>0</td>\n",
       "      <td>0</td>\n",
       "      <td>0</td>\n",
       "      <td>0</td>\n",
       "      <td>0</td>\n",
       "      <td>0</td>\n",
       "      <td>0</td>\n",
       "      <td>0</td>\n",
       "      <td>0</td>\n",
       "      <td>...</td>\n",
       "      <td>0</td>\n",
       "      <td>0</td>\n",
       "      <td>0</td>\n",
       "      <td>0</td>\n",
       "      <td>0</td>\n",
       "      <td>0</td>\n",
       "      <td>0</td>\n",
       "      <td>0</td>\n",
       "      <td>0</td>\n",
       "      <td>0</td>\n",
       "    </tr>\n",
       "    <tr>\n",
       "      <th>1</th>\n",
       "      <td>0</td>\n",
       "      <td>0</td>\n",
       "      <td>0</td>\n",
       "      <td>0</td>\n",
       "      <td>0</td>\n",
       "      <td>0</td>\n",
       "      <td>0</td>\n",
       "      <td>0</td>\n",
       "      <td>0</td>\n",
       "      <td>0</td>\n",
       "      <td>...</td>\n",
       "      <td>0</td>\n",
       "      <td>0</td>\n",
       "      <td>0</td>\n",
       "      <td>0</td>\n",
       "      <td>0</td>\n",
       "      <td>0</td>\n",
       "      <td>0</td>\n",
       "      <td>0</td>\n",
       "      <td>0</td>\n",
       "      <td>0</td>\n",
       "    </tr>\n",
       "    <tr>\n",
       "      <th>2</th>\n",
       "      <td>0</td>\n",
       "      <td>0</td>\n",
       "      <td>0</td>\n",
       "      <td>0</td>\n",
       "      <td>0</td>\n",
       "      <td>0</td>\n",
       "      <td>0</td>\n",
       "      <td>0</td>\n",
       "      <td>0</td>\n",
       "      <td>0</td>\n",
       "      <td>...</td>\n",
       "      <td>0</td>\n",
       "      <td>0</td>\n",
       "      <td>0</td>\n",
       "      <td>0</td>\n",
       "      <td>0</td>\n",
       "      <td>0</td>\n",
       "      <td>0</td>\n",
       "      <td>0</td>\n",
       "      <td>0</td>\n",
       "      <td>0</td>\n",
       "    </tr>\n",
       "    <tr>\n",
       "      <th>3</th>\n",
       "      <td>0</td>\n",
       "      <td>0</td>\n",
       "      <td>0</td>\n",
       "      <td>0</td>\n",
       "      <td>0</td>\n",
       "      <td>0</td>\n",
       "      <td>0</td>\n",
       "      <td>0</td>\n",
       "      <td>0</td>\n",
       "      <td>0</td>\n",
       "      <td>...</td>\n",
       "      <td>0</td>\n",
       "      <td>0</td>\n",
       "      <td>0</td>\n",
       "      <td>0</td>\n",
       "      <td>0</td>\n",
       "      <td>0</td>\n",
       "      <td>0</td>\n",
       "      <td>0</td>\n",
       "      <td>0</td>\n",
       "      <td>0</td>\n",
       "    </tr>\n",
       "    <tr>\n",
       "      <th>4</th>\n",
       "      <td>0</td>\n",
       "      <td>0</td>\n",
       "      <td>0</td>\n",
       "      <td>0</td>\n",
       "      <td>0</td>\n",
       "      <td>0</td>\n",
       "      <td>0</td>\n",
       "      <td>0</td>\n",
       "      <td>0</td>\n",
       "      <td>0</td>\n",
       "      <td>...</td>\n",
       "      <td>0</td>\n",
       "      <td>0</td>\n",
       "      <td>0</td>\n",
       "      <td>0</td>\n",
       "      <td>0</td>\n",
       "      <td>0</td>\n",
       "      <td>0</td>\n",
       "      <td>0</td>\n",
       "      <td>0</td>\n",
       "      <td>0</td>\n",
       "    </tr>\n",
       "  </tbody>\n",
       "</table>\n",
       "<p>5 rows × 381 columns</p>\n",
       "</div>"
      ],
      "text/plain": [
       "   macadamia nuts  bran cereal  grape juice  milk  blueberries  \\\n",
       "0               0            0            0     0            0   \n",
       "1               0            0            0     0            0   \n",
       "2               0            0            0     0            0   \n",
       "3               0            0            0     0            0   \n",
       "4               0            0            0     0            0   \n",
       "\n",
       "   pineapple juice  triple sec  couscous  biscuit baking mix  icing  \\\n",
       "0                0           0         0                   0      0   \n",
       "1                0           0         0                   0      0   \n",
       "2                0           0         0                   0      0   \n",
       "3                0           0         0                   0      0   \n",
       "4                0           0         0                   0      0   \n",
       "\n",
       "          ...           tomato soup  pear  brandy  orange extract  masa  \\\n",
       "0         ...                     0     0       0               0     0   \n",
       "1         ...                     0     0       0               0     0   \n",
       "2         ...                     0     0       0               0     0   \n",
       "3         ...                     0     0       0               0     0   \n",
       "4         ...                     0     0       0               0     0   \n",
       "\n",
       "   potato  margarita mix  almond meal  berries  candied orange peel  \n",
       "0       0              0            0        0                    0  \n",
       "1       0              0            0        0                    0  \n",
       "2       0              0            0        0                    0  \n",
       "3       0              0            0        0                    0  \n",
       "4       0              0            0        0                    0  \n",
       "\n",
       "[5 rows x 381 columns]"
      ]
     },
     "execution_count": 2,
     "metadata": {},
     "output_type": "execute_result"
    }
   ],
   "source": [
    "cakes.head(5)"
   ]
  },
  {
   "cell_type": "markdown",
   "metadata": {},
   "source": [
    "The first five rows of the `incidence` data frame. Again, the matrix holds a 0 in row i and column j if the recipe in row i is missing ingredient j. It's 1 otherwise. Remember how many cakes we had..."
   ]
  },
  {
   "cell_type": "code",
   "execution_count": 3,
   "metadata": {},
   "outputs": [
    {
     "data": {
      "text/plain": [
       "(1000, 381)"
      ]
     },
     "execution_count": 3,
     "metadata": {},
     "output_type": "execute_result"
    }
   ],
   "source": [
    "cakes.shape"
   ]
  },
  {
   "cell_type": "markdown",
   "metadata": {},
   "source": [
    "So, 1,000 recipes and 381 ingredients. As we commented in the last notebook, row and column sums can be important. Summing down the columns counts how many recipes (out of 1,000) contain each ingredient. Here we `apply()` the `sum()` function down columns, indicated with `axis=0`. We sort the resuts and see that many ingredients appear just once."
   ]
  },
  {
   "cell_type": "code",
   "execution_count": 23,
   "metadata": {},
   "outputs": [
    {
     "data": {
      "text/plain": [
       "marzipan                       1\n",
       "sandwich rolls                 1\n",
       "cane syrup                     1\n",
       "semolina                       1\n",
       "oreo cookies                   1\n",
       "meringue                       1\n",
       "cherry tomato                  1\n",
       "mousse                         1\n",
       "milky way bars                 1\n",
       "wine                           1\n",
       "blueberry jam                  1\n",
       "bacon grease                   1\n",
       "wheat germ                     1\n",
       "candied ginger                 1\n",
       "madeira                        1\n",
       "almond bark                    1\n",
       "vanilla pod                    1\n",
       "banana extract                 1\n",
       "silken tofu                    1\n",
       "fig preserves                  1\n",
       "toasted almond                 1\n",
       "sweet potato                   1\n",
       "ice                            1\n",
       "champagne                      1\n",
       "carbonated water               1\n",
       "onions                         1\n",
       "worcestershire sauce           1\n",
       "hazelnut liqueur               1\n",
       "liquor                         1\n",
       "pistachio nut                  1\n",
       "                            ... \n",
       "egg yolks                     54\n",
       "lemon juice                   55\n",
       "flaked coconut                60\n",
       "frosting                      62\n",
       "semisweet chocolate chips     63\n",
       "raisins                       71\n",
       "egg whites                    78\n",
       "heavy cream                   78\n",
       "shortening                    83\n",
       "nutmeg                        92\n",
       "sour cream                    96\n",
       "pecan                        103\n",
       "buttermilk                   114\n",
       "walnut                       115\n",
       "cake mix                     121\n",
       "brown sugar                  150\n",
       "cocoa powder                 154\n",
       "powdered sugar               172\n",
       "milk                         236\n",
       "cinnamon                     240\n",
       "water                        286\n",
       "baking powder                339\n",
       "vegetable oil                342\n",
       "baking soda                  359\n",
       "butter                       476\n",
       "salt                         494\n",
       "vanilla extract              508\n",
       "sugar                        653\n",
       "flour                        653\n",
       "eggs                         768\n",
       "Length: 381, dtype: int64"
      ]
     },
     "execution_count": 23,
     "metadata": {},
     "output_type": "execute_result"
    }
   ],
   "source": [
    "cakes.apply(sum,axis=0).sort_values()"
   ]
  },
  {
   "cell_type": "markdown",
   "metadata": {},
   "source": [
    "Here we compute just how many ingredients appear in one recipe. We take the column sum and ask for a boolean outcome, `True` if there was one recipe and `False` for more. Adding these up turns `True` to 1 and `False` to zero. "
   ]
  },
  {
   "cell_type": "code",
   "execution_count": 5,
   "metadata": {},
   "outputs": [
    {
     "data": {
      "text/plain": [
       "126"
      ]
     },
     "execution_count": 5,
     "metadata": {},
     "output_type": "execute_result"
    }
   ],
   "source": [
    "sum( cakes.apply(sum,axis=0) == 1)"
   ]
  },
  {
   "cell_type": "markdown",
   "metadata": {},
   "source": [
    "That means 126 or about 13% are used by just one recipe. How many have two? Three? Less than five?"
   ]
  },
  {
   "cell_type": "code",
   "execution_count": null,
   "metadata": {},
   "outputs": [],
   "source": [
    "# your code here\n",
    "\n"
   ]
  },
  {
   "cell_type": "markdown",
   "metadata": {},
   "source": [
    "How should we judge similarity between two recipes? Again, we want them to have use much the same ingredients. A simple measure for that is the **Jaccard metric.** It is good for rows (or columns) that are made up of 0's and 1's. Essentially it looks at how many 1's the two recipes have in common, divided by the total number of ingredients they require. Well, you subtract that ratio from 1. So, if two recipes have nothing in common, the metric will be 1, and if they have everything in common, it will be 0."
   ]
  },
  {
   "cell_type": "code",
   "execution_count": 6,
   "metadata": {},
   "outputs": [],
   "source": [
    "# Jaccard distance\n",
    "\n",
    "def dist(a,b):\n",
    "    \n",
    "    intersection = sum((a+b)==2)\n",
    "    union = sum((a+b)>=1)\n",
    "    \n",
    "    # print intersection,union\n",
    "    \n",
    "    return 1.0-(0.0+intersection)/union"
   ]
  },
  {
   "cell_type": "markdown",
   "metadata": {},
   "source": [
    "Let's try out the function. We'll make two series (Pandas' representation of a row or column) of 0's and 1's and computes their Jaccard distance. See if this makes sense. Change the 0's and 1's to all agree or disagree."
   ]
  },
  {
   "cell_type": "code",
   "execution_count": 7,
   "metadata": {},
   "outputs": [
    {
     "data": {
      "text/plain": [
       "0.33333333333333337"
      ]
     },
     "execution_count": 7,
     "metadata": {},
     "output_type": "execute_result"
    }
   ],
   "source": [
    "from pandas import Series\n",
    "x = Series([1,0,1,1])\n",
    "y = Series([0,0,1,1])\n",
    "dist(x,y)"
   ]
  },
  {
   "cell_type": "markdown",
   "metadata": {},
   "source": [
    "Finally, to compute the distance between two recipes, we need to access rows. This is done using `.iloc[]` subsetting. We haven't seen this yet, but it gives us fine-grained control over the rows or columns we want to extract. The notation is \n",
    ">`row selection, column selection`\n",
    "\n",
    "Before the comma refers to rows and after to columns. We can use single integers for a single row or column, a slice like `5:10` to get a range,  and the empty slice `:` to ask for all the rows or columns. The result is a Pandas Series. \n",
    "\n",
    "Here is recipe with ID 40. "
   ]
  },
  {
   "cell_type": "code",
   "execution_count": 8,
   "metadata": {},
   "outputs": [
    {
     "data": {
      "text/plain": [
       "macadamia nuts         0\n",
       "bran cereal            0\n",
       "grape juice            0\n",
       "milk                   0\n",
       "blueberries            0\n",
       "pineapple juice        0\n",
       "triple sec             0\n",
       "couscous               0\n",
       "biscuit baking mix     0\n",
       "icing                  0\n",
       "yeast                  0\n",
       "cranberry sauce        0\n",
       "figs                   0\n",
       "chocolate cake         0\n",
       "strawberry jam         0\n",
       "caramels               0\n",
       "rolled oat             0\n",
       "teas                   0\n",
       "granny smith apple     0\n",
       "apple cider            0\n",
       "candy bars             0\n",
       "peanut butter chip     0\n",
       "rose water             0\n",
       "almond                 0\n",
       "bacon                  0\n",
       "lavender               0\n",
       "currant                0\n",
       "caster sugar           0\n",
       "instant coffee         0\n",
       "espresso               0\n",
       "                      ..\n",
       "whiskey                0\n",
       "green olive            0\n",
       "cornmeal               0\n",
       "cake                   0\n",
       "egg whites             0\n",
       "sea scallops           0\n",
       "roasted red peppers    0\n",
       "club soda              0\n",
       "cream                  0\n",
       "lemon                  0\n",
       "peach                  0\n",
       "hazelnuts              0\n",
       "cashew                 0\n",
       "saffron                0\n",
       "coffee ice cream       0\n",
       "flax seed              0\n",
       "mayonnaise             0\n",
       "roll                   0\n",
       "whipped cream          0\n",
       "lime juice             0\n",
       "tomato soup            0\n",
       "pear                   0\n",
       "brandy                 0\n",
       "orange extract         0\n",
       "masa                   0\n",
       "potato                 0\n",
       "margarita mix          0\n",
       "almond meal            0\n",
       "berries                0\n",
       "candied orange peel    0\n",
       "Name: 40, Length: 381, dtype: int64"
      ]
     },
     "execution_count": 8,
     "metadata": {},
     "output_type": "execute_result"
    }
   ],
   "source": [
    "cakes.iloc[40,:]"
   ]
  },
  {
   "cell_type": "markdown",
   "metadata": {},
   "source": [
    "This recipe has read 10 ingredients."
   ]
  },
  {
   "cell_type": "code",
   "execution_count": 9,
   "metadata": {},
   "outputs": [
    {
     "data": {
      "text/plain": [
       "10"
      ]
     },
     "execution_count": 9,
     "metadata": {},
     "output_type": "execute_result"
    }
   ],
   "source": [
    "sum(cakes.iloc[40,:])"
   ]
  },
  {
   "cell_type": "markdown",
   "metadata": {},
   "source": [
    "Here are the 10."
   ]
  },
  {
   "cell_type": "code",
   "execution_count": 10,
   "metadata": {},
   "outputs": [
    {
     "data": {
      "text/plain": [
       "['chocolate',\n",
       " 'vanilla extract',\n",
       " 'flour',\n",
       " 'eggs',\n",
       " 'salt',\n",
       " 'sugar',\n",
       " 'nutmeg',\n",
       " 'buttermilk',\n",
       " 'butter',\n",
       " 'baking soda']"
      ]
     },
     "execution_count": 10,
     "metadata": {},
     "output_type": "execute_result"
    }
   ],
   "source": [
    "[c for c in cakes.columns if cakes[c][10]]"
   ]
  },
  {
   "cell_type": "markdown",
   "metadata": {},
   "source": [
    "And here is the distance between recipe 40 and recipe 10."
   ]
  },
  {
   "cell_type": "code",
   "execution_count": 11,
   "metadata": {},
   "outputs": [
    {
     "data": {
      "text/plain": [
       "['vanilla extract',\n",
       " 'flour',\n",
       " 'eggs',\n",
       " 'salt',\n",
       " 'sugar',\n",
       " 'chocolate syrup',\n",
       " 'buttermilk',\n",
       " 'butter',\n",
       " 'flaked coconut',\n",
       " 'baking soda']"
      ]
     },
     "execution_count": 11,
     "metadata": {},
     "output_type": "execute_result"
    }
   ],
   "source": [
    "[c for c in cakes.columns if cakes[c][40]]"
   ]
  },
  {
   "cell_type": "markdown",
   "metadata": {},
   "source": [
    "The two recipes share 8 ingredients and between them, there are 12 total ingredients. That means the distance is 1-8/12 = 1-2/3 = 1/3. Let's see!"
   ]
  },
  {
   "cell_type": "code",
   "execution_count": 12,
   "metadata": {},
   "outputs": [
    {
     "data": {
      "text/plain": [
       "0.33333333333333337"
      ]
     },
     "execution_count": 12,
     "metadata": {},
     "output_type": "execute_result"
    }
   ],
   "source": [
    "dist(cakes.iloc[40,:],cakes.iloc[10,:])"
   ]
  },
  {
   "cell_type": "markdown",
   "metadata": {},
   "source": [
    "Yes! \n",
    "\n",
    "Now, this loop iterates through the entire set of rows and calculates the distance between recipe 40 and the rest. "
   ]
  },
  {
   "cell_type": "code",
   "execution_count": 13,
   "metadata": {},
   "outputs": [
    {
     "data": {
      "text/plain": [
       "0    0.583333\n",
       "1    0.937500\n",
       "2    0.500000\n",
       "3    0.461538\n",
       "4    0.714286\n",
       "dtype: float64"
      ]
     },
     "execution_count": 13,
     "metadata": {},
     "output_type": "execute_result"
    }
   ],
   "source": [
    "distances = Series([ dist(cakes.iloc[40,:],cakes.iloc[i,:]) for i in range(1000)])\n",
    "distances.head()"
   ]
  },
  {
   "cell_type": "markdown",
   "metadata": {},
   "source": [
    "Here we sort the distaances and look at the distance of the 25th nearest recipe to number 40."
   ]
  },
  {
   "cell_type": "code",
   "execution_count": 14,
   "metadata": {},
   "outputs": [
    {
     "data": {
      "text/plain": [
       "0.41666666666666663"
      ]
     },
     "execution_count": 14,
     "metadata": {},
     "output_type": "execute_result"
    }
   ],
   "source": [
    "close = distances.sort_values().reset_index(drop=True)[25]\n",
    "close"
   ]
  },
  {
   "cell_type": "markdown",
   "metadata": {},
   "source": [
    "We then subset just the nearby cakes, those with distance less than 0.417. "
   ]
  },
  {
   "cell_type": "code",
   "execution_count": 15,
   "metadata": {},
   "outputs": [
    {
     "data": {
      "text/html": [
       "<div>\n",
       "<style scoped>\n",
       "    .dataframe tbody tr th:only-of-type {\n",
       "        vertical-align: middle;\n",
       "    }\n",
       "\n",
       "    .dataframe tbody tr th {\n",
       "        vertical-align: top;\n",
       "    }\n",
       "\n",
       "    .dataframe thead th {\n",
       "        text-align: right;\n",
       "    }\n",
       "</style>\n",
       "<table border=\"1\" class=\"dataframe\">\n",
       "  <thead>\n",
       "    <tr style=\"text-align: right;\">\n",
       "      <th></th>\n",
       "      <th>macadamia nuts</th>\n",
       "      <th>bran cereal</th>\n",
       "      <th>grape juice</th>\n",
       "      <th>milk</th>\n",
       "      <th>blueberries</th>\n",
       "      <th>pineapple juice</th>\n",
       "      <th>triple sec</th>\n",
       "      <th>couscous</th>\n",
       "      <th>biscuit baking mix</th>\n",
       "      <th>icing</th>\n",
       "      <th>...</th>\n",
       "      <th>tomato soup</th>\n",
       "      <th>pear</th>\n",
       "      <th>brandy</th>\n",
       "      <th>orange extract</th>\n",
       "      <th>masa</th>\n",
       "      <th>potato</th>\n",
       "      <th>margarita mix</th>\n",
       "      <th>almond meal</th>\n",
       "      <th>berries</th>\n",
       "      <th>candied orange peel</th>\n",
       "    </tr>\n",
       "  </thead>\n",
       "  <tbody>\n",
       "    <tr>\n",
       "      <th>10</th>\n",
       "      <td>0</td>\n",
       "      <td>0</td>\n",
       "      <td>0</td>\n",
       "      <td>0</td>\n",
       "      <td>0</td>\n",
       "      <td>0</td>\n",
       "      <td>0</td>\n",
       "      <td>0</td>\n",
       "      <td>0</td>\n",
       "      <td>0</td>\n",
       "      <td>...</td>\n",
       "      <td>0</td>\n",
       "      <td>0</td>\n",
       "      <td>0</td>\n",
       "      <td>0</td>\n",
       "      <td>0</td>\n",
       "      <td>0</td>\n",
       "      <td>0</td>\n",
       "      <td>0</td>\n",
       "      <td>0</td>\n",
       "      <td>0</td>\n",
       "    </tr>\n",
       "    <tr>\n",
       "      <th>27</th>\n",
       "      <td>0</td>\n",
       "      <td>0</td>\n",
       "      <td>0</td>\n",
       "      <td>0</td>\n",
       "      <td>0</td>\n",
       "      <td>0</td>\n",
       "      <td>0</td>\n",
       "      <td>0</td>\n",
       "      <td>0</td>\n",
       "      <td>0</td>\n",
       "      <td>...</td>\n",
       "      <td>0</td>\n",
       "      <td>0</td>\n",
       "      <td>0</td>\n",
       "      <td>0</td>\n",
       "      <td>0</td>\n",
       "      <td>0</td>\n",
       "      <td>0</td>\n",
       "      <td>0</td>\n",
       "      <td>0</td>\n",
       "      <td>0</td>\n",
       "    </tr>\n",
       "    <tr>\n",
       "      <th>80</th>\n",
       "      <td>0</td>\n",
       "      <td>0</td>\n",
       "      <td>0</td>\n",
       "      <td>0</td>\n",
       "      <td>0</td>\n",
       "      <td>0</td>\n",
       "      <td>0</td>\n",
       "      <td>0</td>\n",
       "      <td>0</td>\n",
       "      <td>0</td>\n",
       "      <td>...</td>\n",
       "      <td>0</td>\n",
       "      <td>0</td>\n",
       "      <td>0</td>\n",
       "      <td>0</td>\n",
       "      <td>0</td>\n",
       "      <td>0</td>\n",
       "      <td>0</td>\n",
       "      <td>0</td>\n",
       "      <td>0</td>\n",
       "      <td>0</td>\n",
       "    </tr>\n",
       "    <tr>\n",
       "      <th>90</th>\n",
       "      <td>0</td>\n",
       "      <td>0</td>\n",
       "      <td>0</td>\n",
       "      <td>0</td>\n",
       "      <td>0</td>\n",
       "      <td>0</td>\n",
       "      <td>0</td>\n",
       "      <td>0</td>\n",
       "      <td>0</td>\n",
       "      <td>0</td>\n",
       "      <td>...</td>\n",
       "      <td>0</td>\n",
       "      <td>0</td>\n",
       "      <td>0</td>\n",
       "      <td>0</td>\n",
       "      <td>0</td>\n",
       "      <td>0</td>\n",
       "      <td>0</td>\n",
       "      <td>0</td>\n",
       "      <td>0</td>\n",
       "      <td>0</td>\n",
       "    </tr>\n",
       "    <tr>\n",
       "      <th>191</th>\n",
       "      <td>0</td>\n",
       "      <td>0</td>\n",
       "      <td>0</td>\n",
       "      <td>0</td>\n",
       "      <td>0</td>\n",
       "      <td>0</td>\n",
       "      <td>0</td>\n",
       "      <td>0</td>\n",
       "      <td>0</td>\n",
       "      <td>0</td>\n",
       "      <td>...</td>\n",
       "      <td>0</td>\n",
       "      <td>0</td>\n",
       "      <td>0</td>\n",
       "      <td>0</td>\n",
       "      <td>0</td>\n",
       "      <td>0</td>\n",
       "      <td>0</td>\n",
       "      <td>0</td>\n",
       "      <td>0</td>\n",
       "      <td>0</td>\n",
       "    </tr>\n",
       "  </tbody>\n",
       "</table>\n",
       "<p>5 rows × 381 columns</p>\n",
       "</div>"
      ],
      "text/plain": [
       "     macadamia nuts  bran cereal  grape juice  milk  blueberries  \\\n",
       "10                0            0            0     0            0   \n",
       "27                0            0            0     0            0   \n",
       "80                0            0            0     0            0   \n",
       "90                0            0            0     0            0   \n",
       "191               0            0            0     0            0   \n",
       "\n",
       "     pineapple juice  triple sec  couscous  biscuit baking mix  icing  \\\n",
       "10                 0           0         0                   0      0   \n",
       "27                 0           0         0                   0      0   \n",
       "80                 0           0         0                   0      0   \n",
       "90                 0           0         0                   0      0   \n",
       "191                0           0         0                   0      0   \n",
       "\n",
       "            ...           tomato soup  pear  brandy  orange extract  masa  \\\n",
       "10          ...                     0     0       0               0     0   \n",
       "27          ...                     0     0       0               0     0   \n",
       "80          ...                     0     0       0               0     0   \n",
       "90          ...                     0     0       0               0     0   \n",
       "191         ...                     0     0       0               0     0   \n",
       "\n",
       "     potato  margarita mix  almond meal  berries  candied orange peel  \n",
       "10        0              0            0        0                    0  \n",
       "27        0              0            0        0                    0  \n",
       "80        0              0            0        0                    0  \n",
       "90        0              0            0        0                    0  \n",
       "191       0              0            0        0                    0  \n",
       "\n",
       "[5 rows x 381 columns]"
      ]
     },
     "execution_count": 15,
     "metadata": {},
     "output_type": "execute_result"
    }
   ],
   "source": [
    "near_cakes = cakes[(distances<=close) & (distances>0)]\n",
    "near_cakes.head(5)"
   ]
  },
  {
   "cell_type": "markdown",
   "metadata": {},
   "source": [
    "Let's pull out the ingredients in recipe 40, storing them in a list."
   ]
  },
  {
   "cell_type": "code",
   "execution_count": 16,
   "metadata": {},
   "outputs": [
    {
     "data": {
      "text/plain": [
       "['vanilla extract',\n",
       " 'flour',\n",
       " 'eggs',\n",
       " 'salt',\n",
       " 'sugar',\n",
       " 'chocolate syrup',\n",
       " 'buttermilk',\n",
       " 'butter',\n",
       " 'flaked coconut',\n",
       " 'baking soda']"
      ]
     },
     "execution_count": 16,
     "metadata": {},
     "output_type": "execute_result"
    }
   ],
   "source": [
    "ingredients = [ing for ing in cakes.columns if cakes[ing][40]]\n",
    "ingredients"
   ]
  },
  {
   "cell_type": "markdown",
   "metadata": {},
   "source": [
    "Finally, we sort the ingredients according to the number of recipes that contain them. We then leave out all the ingredients that are already in cake 40. "
   ]
  },
  {
   "cell_type": "code",
   "execution_count": 17,
   "metadata": {},
   "outputs": [
    {
     "data": {
      "text/html": [
       "<div>\n",
       "<style scoped>\n",
       "    .dataframe tbody tr th:only-of-type {\n",
       "        vertical-align: middle;\n",
       "    }\n",
       "\n",
       "    .dataframe tbody tr th {\n",
       "        vertical-align: top;\n",
       "    }\n",
       "\n",
       "    .dataframe thead th {\n",
       "        text-align: right;\n",
       "    }\n",
       "</style>\n",
       "<table border=\"1\" class=\"dataframe\">\n",
       "  <thead>\n",
       "    <tr style=\"text-align: right;\">\n",
       "      <th></th>\n",
       "      <th>index</th>\n",
       "      <th>0</th>\n",
       "    </tr>\n",
       "  </thead>\n",
       "  <tbody>\n",
       "    <tr>\n",
       "      <th>8</th>\n",
       "      <td>baking powder</td>\n",
       "      <td>9</td>\n",
       "    </tr>\n",
       "    <tr>\n",
       "      <th>10</th>\n",
       "      <td>walnut</td>\n",
       "      <td>3</td>\n",
       "    </tr>\n",
       "    <tr>\n",
       "      <th>11</th>\n",
       "      <td>cocoa powder</td>\n",
       "      <td>3</td>\n",
       "    </tr>\n",
       "    <tr>\n",
       "      <th>12</th>\n",
       "      <td>water</td>\n",
       "      <td>3</td>\n",
       "    </tr>\n",
       "    <tr>\n",
       "      <th>13</th>\n",
       "      <td>cinnamon</td>\n",
       "      <td>3</td>\n",
       "    </tr>\n",
       "    <tr>\n",
       "      <th>14</th>\n",
       "      <td>banana</td>\n",
       "      <td>2</td>\n",
       "    </tr>\n",
       "    <tr>\n",
       "      <th>15</th>\n",
       "      <td>nutmeg</td>\n",
       "      <td>2</td>\n",
       "    </tr>\n",
       "    <tr>\n",
       "      <th>16</th>\n",
       "      <td>coconut extract</td>\n",
       "      <td>2</td>\n",
       "    </tr>\n",
       "    <tr>\n",
       "      <th>17</th>\n",
       "      <td>almond</td>\n",
       "      <td>2</td>\n",
       "    </tr>\n",
       "    <tr>\n",
       "      <th>18</th>\n",
       "      <td>vegetable oil</td>\n",
       "      <td>2</td>\n",
       "    </tr>\n",
       "  </tbody>\n",
       "</table>\n",
       "</div>"
      ],
      "text/plain": [
       "              index  0\n",
       "8     baking powder  9\n",
       "10           walnut  3\n",
       "11     cocoa powder  3\n",
       "12            water  3\n",
       "13         cinnamon  3\n",
       "14           banana  2\n",
       "15           nutmeg  2\n",
       "16  coconut extract  2\n",
       "17           almond  2\n",
       "18    vegetable oil  2"
      ]
     },
     "execution_count": 17,
     "metadata": {},
     "output_type": "execute_result"
    }
   ],
   "source": [
    "recommendations = near_cakes.apply(sum,axis=0).sort_values(ascending=False).reset_index()\n",
    "recommendations[~recommendations[\"index\"].isin(ingredients)].head(10)"
   ]
  },
  {
   "cell_type": "markdown",
   "metadata": {},
   "source": [
    "Let's wrap these two into a function and have a look at a few cakes and what we recommend to add."
   ]
  },
  {
   "cell_type": "code",
   "execution_count": 18,
   "metadata": {},
   "outputs": [],
   "source": [
    "def dist(a,b):\n",
    "    \n",
    "    intersection = sum((a+b)==2)\n",
    "    union = sum((a+b)>=1)\n",
    "    \n",
    "    # print intersection,union\n",
    "    \n",
    "    return 1.0-(0.0+intersection)/union\n",
    "\n",
    "def recommend(c,k=10,recipes=cakes):\n",
    "    \n",
    "    n_recipes = recipes.shape[0]\n",
    "    \n",
    "    ingredients = [ing for ing in cakes.columns if cakes[ing][c]]\n",
    "    print(\"Ingredients in recipe\",c)\n",
    "    print(ingredients)\n",
    "    \n",
    "    distances = Series([dist(recipes.iloc[c,:],recipes.iloc[i,:]) for i in range(n_recipes)])\n",
    "    close = list(distances.sort_values())[k]\n",
    "\n",
    "    near_recipes = recipes[(distances<=close) & (distances>0)]\n",
    "    recommendations = near_recipes.apply(sum,axis=0).sort_values(ascending=False).reset_index()\n",
    "    \n",
    "    return recommendations[~recommendations[\"index\"].isin(ingredients)][:10]"
   ]
  },
  {
   "cell_type": "code",
   "execution_count": 19,
   "metadata": {},
   "outputs": [
    {
     "name": "stdout",
     "output_type": "stream",
     "text": [
      "Ingredients in recipe 920\n",
      "['cinnamon', 'vegetable oil', 'carrot', 'nuts', 'flour', 'eggs', 'pineapple', 'salt', 'sugar', 'baking soda']\n"
     ]
    },
    {
     "data": {
      "text/html": [
       "<div>\n",
       "<style scoped>\n",
       "    .dataframe tbody tr th:only-of-type {\n",
       "        vertical-align: middle;\n",
       "    }\n",
       "\n",
       "    .dataframe tbody tr th {\n",
       "        vertical-align: top;\n",
       "    }\n",
       "\n",
       "    .dataframe thead th {\n",
       "        text-align: right;\n",
       "    }\n",
       "</style>\n",
       "<table border=\"1\" class=\"dataframe\">\n",
       "  <thead>\n",
       "    <tr style=\"text-align: right;\">\n",
       "      <th></th>\n",
       "      <th>index</th>\n",
       "      <th>0</th>\n",
       "    </tr>\n",
       "  </thead>\n",
       "  <tbody>\n",
       "    <tr>\n",
       "      <th>8</th>\n",
       "      <td>vanilla extract</td>\n",
       "      <td>13</td>\n",
       "    </tr>\n",
       "    <tr>\n",
       "      <th>10</th>\n",
       "      <td>walnut</td>\n",
       "      <td>8</td>\n",
       "    </tr>\n",
       "    <tr>\n",
       "      <th>12</th>\n",
       "      <td>baking powder</td>\n",
       "      <td>5</td>\n",
       "    </tr>\n",
       "    <tr>\n",
       "      <th>13</th>\n",
       "      <td>apple</td>\n",
       "      <td>4</td>\n",
       "    </tr>\n",
       "    <tr>\n",
       "      <th>14</th>\n",
       "      <td>raisins</td>\n",
       "      <td>4</td>\n",
       "    </tr>\n",
       "    <tr>\n",
       "      <th>15</th>\n",
       "      <td>flaked coconut</td>\n",
       "      <td>4</td>\n",
       "    </tr>\n",
       "    <tr>\n",
       "      <th>16</th>\n",
       "      <td>pecan</td>\n",
       "      <td>4</td>\n",
       "    </tr>\n",
       "    <tr>\n",
       "      <th>17</th>\n",
       "      <td>nutmeg</td>\n",
       "      <td>3</td>\n",
       "    </tr>\n",
       "    <tr>\n",
       "      <th>18</th>\n",
       "      <td>cocoa powder</td>\n",
       "      <td>2</td>\n",
       "    </tr>\n",
       "    <tr>\n",
       "      <th>19</th>\n",
       "      <td>brown sugar</td>\n",
       "      <td>2</td>\n",
       "    </tr>\n",
       "  </tbody>\n",
       "</table>\n",
       "</div>"
      ],
      "text/plain": [
       "              index   0\n",
       "8   vanilla extract  13\n",
       "10           walnut   8\n",
       "12    baking powder   5\n",
       "13            apple   4\n",
       "14          raisins   4\n",
       "15   flaked coconut   4\n",
       "16            pecan   4\n",
       "17           nutmeg   3\n",
       "18     cocoa powder   2\n",
       "19      brown sugar   2"
      ]
     },
     "execution_count": 19,
     "metadata": {},
     "output_type": "execute_result"
    }
   ],
   "source": [
    "recommend(920,25)"
   ]
  },
  {
   "cell_type": "code",
   "execution_count": 20,
   "metadata": {},
   "outputs": [
    {
     "name": "stdout",
     "output_type": "stream",
     "text": [
      "Ingredients in recipe 230\n",
      "['applesauce', 'cinnamon', 'walnut', 'eggs', 'sugar', 'nutmeg', 'pastry flour', 'shortening', 'baking soda', 'raisins']\n"
     ]
    },
    {
     "data": {
      "text/html": [
       "<div>\n",
       "<style scoped>\n",
       "    .dataframe tbody tr th:only-of-type {\n",
       "        vertical-align: middle;\n",
       "    }\n",
       "\n",
       "    .dataframe tbody tr th {\n",
       "        vertical-align: top;\n",
       "    }\n",
       "\n",
       "    .dataframe thead th {\n",
       "        text-align: right;\n",
       "    }\n",
       "</style>\n",
       "<table border=\"1\" class=\"dataframe\">\n",
       "  <thead>\n",
       "    <tr style=\"text-align: right;\">\n",
       "      <th></th>\n",
       "      <th>index</th>\n",
       "      <th>0</th>\n",
       "    </tr>\n",
       "  </thead>\n",
       "  <tbody>\n",
       "    <tr>\n",
       "      <th>2</th>\n",
       "      <td>flour</td>\n",
       "      <td>24</td>\n",
       "    </tr>\n",
       "    <tr>\n",
       "      <th>5</th>\n",
       "      <td>salt</td>\n",
       "      <td>21</td>\n",
       "    </tr>\n",
       "    <tr>\n",
       "      <th>10</th>\n",
       "      <td>baking powder</td>\n",
       "      <td>11</td>\n",
       "    </tr>\n",
       "    <tr>\n",
       "      <th>12</th>\n",
       "      <td>vanilla extract</td>\n",
       "      <td>9</td>\n",
       "    </tr>\n",
       "    <tr>\n",
       "      <th>13</th>\n",
       "      <td>allspice</td>\n",
       "      <td>8</td>\n",
       "    </tr>\n",
       "    <tr>\n",
       "      <th>14</th>\n",
       "      <td>vegetable oil</td>\n",
       "      <td>6</td>\n",
       "    </tr>\n",
       "    <tr>\n",
       "      <th>15</th>\n",
       "      <td>cloves</td>\n",
       "      <td>6</td>\n",
       "    </tr>\n",
       "    <tr>\n",
       "      <th>16</th>\n",
       "      <td>butter</td>\n",
       "      <td>6</td>\n",
       "    </tr>\n",
       "    <tr>\n",
       "      <th>17</th>\n",
       "      <td>carrot</td>\n",
       "      <td>5</td>\n",
       "    </tr>\n",
       "    <tr>\n",
       "      <th>18</th>\n",
       "      <td>nuts</td>\n",
       "      <td>5</td>\n",
       "    </tr>\n",
       "  </tbody>\n",
       "</table>\n",
       "</div>"
      ],
      "text/plain": [
       "              index   0\n",
       "2             flour  24\n",
       "5              salt  21\n",
       "10    baking powder  11\n",
       "12  vanilla extract   9\n",
       "13         allspice   8\n",
       "14    vegetable oil   6\n",
       "15           cloves   6\n",
       "16           butter   6\n",
       "17           carrot   5\n",
       "18             nuts   5"
      ]
     },
     "execution_count": 20,
     "metadata": {},
     "output_type": "execute_result"
    }
   ],
   "source": [
    "recommend(230,25)"
   ]
  },
  {
   "cell_type": "code",
   "execution_count": 21,
   "metadata": {},
   "outputs": [
    {
     "name": "stdout",
     "output_type": "stream",
     "text": [
      "Ingredients in recipe 430\n",
      "['water', 'vegetable oil', 'vanilla extract', 'powdered sugar', 'eggs', 'sour cream', 'semisweet chocolate chips']\n"
     ]
    },
    {
     "data": {
      "text/html": [
       "<div>\n",
       "<style scoped>\n",
       "    .dataframe tbody tr th:only-of-type {\n",
       "        vertical-align: middle;\n",
       "    }\n",
       "\n",
       "    .dataframe tbody tr th {\n",
       "        vertical-align: top;\n",
       "    }\n",
       "\n",
       "    .dataframe thead th {\n",
       "        text-align: right;\n",
       "    }\n",
       "</style>\n",
       "<table border=\"1\" class=\"dataframe\">\n",
       "  <thead>\n",
       "    <tr style=\"text-align: right;\">\n",
       "      <th></th>\n",
       "      <th>index</th>\n",
       "      <th>0</th>\n",
       "    </tr>\n",
       "  </thead>\n",
       "  <tbody>\n",
       "    <tr>\n",
       "      <th>7</th>\n",
       "      <td>cake mix</td>\n",
       "      <td>8</td>\n",
       "    </tr>\n",
       "    <tr>\n",
       "      <th>8</th>\n",
       "      <td>butter</td>\n",
       "      <td>7</td>\n",
       "    </tr>\n",
       "    <tr>\n",
       "      <th>9</th>\n",
       "      <td>milk</td>\n",
       "      <td>4</td>\n",
       "    </tr>\n",
       "    <tr>\n",
       "      <th>10</th>\n",
       "      <td>chocolate pudding</td>\n",
       "      <td>4</td>\n",
       "    </tr>\n",
       "    <tr>\n",
       "      <th>11</th>\n",
       "      <td>sugar</td>\n",
       "      <td>3</td>\n",
       "    </tr>\n",
       "    <tr>\n",
       "      <th>12</th>\n",
       "      <td>walnut</td>\n",
       "      <td>2</td>\n",
       "    </tr>\n",
       "    <tr>\n",
       "      <th>13</th>\n",
       "      <td>pudding</td>\n",
       "      <td>2</td>\n",
       "    </tr>\n",
       "    <tr>\n",
       "      <th>14</th>\n",
       "      <td>lemon juice</td>\n",
       "      <td>2</td>\n",
       "    </tr>\n",
       "    <tr>\n",
       "      <th>15</th>\n",
       "      <td>hazelnut liqueur</td>\n",
       "      <td>1</td>\n",
       "    </tr>\n",
       "    <tr>\n",
       "      <th>16</th>\n",
       "      <td>nuts</td>\n",
       "      <td>1</td>\n",
       "    </tr>\n",
       "  </tbody>\n",
       "</table>\n",
       "</div>"
      ],
      "text/plain": [
       "                index  0\n",
       "7            cake mix  8\n",
       "8              butter  7\n",
       "9                milk  4\n",
       "10  chocolate pudding  4\n",
       "11              sugar  3\n",
       "12             walnut  2\n",
       "13            pudding  2\n",
       "14        lemon juice  2\n",
       "15   hazelnut liqueur  1\n",
       "16               nuts  1"
      ]
     },
     "execution_count": 21,
     "metadata": {},
     "output_type": "execute_result"
    }
   ],
   "source": [
    "recommend(430,25)"
   ]
  },
  {
   "cell_type": "code",
   "execution_count": null,
   "metadata": {},
   "outputs": [],
   "source": []
  }
 ],
 "metadata": {
  "anaconda-cloud": {},
  "kernelspec": {
   "display_name": "Python 3",
   "language": "python",
   "name": "python3"
  },
  "language_info": {
   "codemirror_mode": {
    "name": "ipython",
    "version": 3
   },
   "file_extension": ".py",
   "mimetype": "text/x-python",
   "name": "python",
   "nbconvert_exporter": "python",
   "pygments_lexer": "ipython3",
   "version": "3.7.1"
  }
 },
 "nbformat": 4,
 "nbformat_minor": 2
}
