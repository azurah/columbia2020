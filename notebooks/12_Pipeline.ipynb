{
 "cells": [
  {
   "cell_type": "markdown",
   "metadata": {},
   "source": [
    "#### Laying a pipeline... \n",
    "\n",
    "We are going to create a simple mechanism to have your scrapers repeat every so often, store the data they find and then prepare them for the Free Press. Our approach will involve a so-called filesystem database. For each day, we will want to 1) pull the content from the site and store it locally, 2) run a process to pull the data from the PDF or HTML and return a CSV, say, and 3) prepare the data for the Free Press. And we'll want to do it on at regular intervals. \n",
    "\n",
    "To create structures on the filesystem, we are going to use a package called `os` for \"operating system\".  "
   ]
  },
  {
   "cell_type": "code",
   "execution_count": null,
   "metadata": {},
   "outputs": [],
   "source": [
    "import os\n",
    "from datetime import datetime"
   ]
  },
  {
   "cell_type": "markdown",
   "metadata": {},
   "source": [
    "We use the `.getcwd()` method to tell what folder we're in."
   ]
  },
  {
   "cell_type": "code",
   "execution_count": null,
   "metadata": {},
   "outputs": [],
   "source": [
    "os.getcwd()"
   ]
  },
  {
   "cell_type": "markdown",
   "metadata": {},
   "source": [
    "We use the `.listdir()` method to exhibit all the files (including other folders) in a directory."
   ]
  },
  {
   "cell_type": "code",
   "execution_count": null,
   "metadata": {},
   "outputs": [],
   "source": [
    "os.listdir()"
   ]
  },
  {
   "cell_type": "markdown",
   "metadata": {},
   "source": [
    "We use `.mkdir()` to make a folder. Here we make one for our project `freepress`. "
   ]
  },
  {
   "cell_type": "code",
   "execution_count": null,
   "metadata": {},
   "outputs": [],
   "source": [
    "os.mkdir(\"freepress\")\n",
    "os.listdir()"
   ]
  },
  {
   "cell_type": "markdown",
   "metadata": {},
   "source": [
    "See that our new folder is among our files. Now, we can pass and argument to `.listdir()` to see the contents of a particular folder. "
   ]
  },
  {
   "cell_type": "code",
   "execution_count": null,
   "metadata": {},
   "outputs": [],
   "source": [
    "os.listdir(\"freepress\")"
   ]
  },
  {
   "cell_type": "markdown",
   "metadata": {},
   "source": [
    "We can move to that directory using `.chdir()` and the name of the folder we'd like to drop into."
   ]
  },
  {
   "cell_type": "code",
   "execution_count": null,
   "metadata": {},
   "outputs": [],
   "source": [
    "os.chdir(\"freepress\")"
   ]
  },
  {
   "cell_type": "code",
   "execution_count": null,
   "metadata": {},
   "outputs": [],
   "source": [
    "os.getcwd()"
   ]
  },
  {
   "cell_type": "markdown",
   "metadata": {},
   "source": [
    "Now we are going to create a folder that has the date of the material we are fetching. We can use the `datetime` object to get one for `.today()` and then use `strftime()` to convert the datetime object into a string. Here we use the %-operators we saw last time. "
   ]
  },
  {
   "cell_type": "code",
   "execution_count": null,
   "metadata": {},
   "outputs": [],
   "source": [
    "today = datetime.today()\n",
    "folder_name = today.strftime(\"%Y-%m-%d\")\n",
    "\n",
    "folder_name"
   ]
  },
  {
   "cell_type": "markdown",
   "metadata": {},
   "source": [
    "Now, our program is going run several times a day so we don't want to keep trying to make the folders we need. Once it's created you move into it... "
   ]
  },
  {
   "cell_type": "code",
   "execution_count": null,
   "metadata": {},
   "outputs": [],
   "source": [
    "if not path.isdir(folder_name): os.mkdir(folder_name)"
   ]
  },
  {
   "cell_type": "markdown",
   "metadata": {},
   "source": [
    "And then after changing directory to the folder for our date, we make three new folders, one for the HTML or PDF `source`, one for the `data` and then one for the information we are setting to the `freepress`. "
   ]
  },
  {
   "cell_type": "code",
   "execution_count": null,
   "metadata": {},
   "outputs": [],
   "source": [
    "os.chdir(folder_name)\n",
    "\n",
    "if not path.isdir(\"source\"): os.mkdir(\"source\")\n",
    "if not path.isdir(\"data\"): os.mkdir(\"data\")\n",
    "if not path.isdir(\"freepress\"): os.mkdir(\"freepress\")"
   ]
  },
  {
   "cell_type": "markdown",
   "metadata": {},
   "source": [
    "We'll walk through the process. Here we take a URL and read the data. We save it in a file in our `source` folder."
   ]
  },
  {
   "cell_type": "code",
   "execution_count": null,
   "metadata": {},
   "outputs": [],
   "source": [
    "from requests import get\n",
    "\n",
    "url = 'https://www.michigan.gov/coronavirus/0,9753,7-406-98163_98173---,00.html'\n",
    "response = get(url)\n",
    "\n",
    "html = open(\"source/michigan_cases.html\",\"w\")\n",
    "html.write(response.text)\n",
    "html.close()"
   ]
  },
  {
   "cell_type": "markdown",
   "metadata": {},
   "source": [
    "We can also read it into a Pandas Data Frame, keeping just the table of cases, say. Remember `read_html()`."
   ]
  },
  {
   "cell_type": "code",
   "execution_count": null,
   "metadata": {},
   "outputs": [],
   "source": [
    "from pandas import read_html\n",
    "\n",
    "tables = read_html(response.text)\n",
    "tables[0]"
   ]
  },
  {
   "cell_type": "markdown",
   "metadata": {},
   "source": [
    "Finally, we save the CSV file in our `data` directory."
   ]
  },
  {
   "cell_type": "code",
   "execution_count": null,
   "metadata": {},
   "outputs": [],
   "source": [
    "tables[0].to_csv(\"data/cases.csv\")"
   ]
  },
  {
   "cell_type": "markdown",
   "metadata": {},
   "source": [
    "Now, let's look tidy this up a little and make some functions that will make the process a little tidier to run. "
   ]
  },
  {
   "cell_type": "code",
   "execution_count": null,
   "metadata": {},
   "outputs": [],
   "source": [
    "# rig\n",
    "import os\n",
    "import pandas\n",
    "from datetime import datetime\n",
    "import requests\n",
    "\n",
    "def get_folder_name(directory_type):\n",
    "    ''' get the folder name\n",
    "        pass in the directory type: source, data, freepress\n",
    "        and this function will return a string (folder name) as:\n",
    "        YYYY-MM-DD/type\n",
    "\n",
    "        e.g.:\n",
    "        2020-04-13/source\n",
    "        2020-04-13/data\n",
    "        2020-04-13/freepress\n",
    "        \n",
    "    '''\n",
    "    \n",
    "    today = datetime.today()\n",
    "    folder_name = f'{today.strftime(\"%Y-%m-%d\")}/{directory_type}'\n",
    "\n",
    "    return folder_name\n",
    "\n",
    "def save_source_file(file_name, file_data):\n",
    "    ''' create the \"source\" directory and save the file_data\n",
    "    '''\n",
    "    \n",
    "    folder_name = get_folder_name(\"source\")\n",
    "    \n",
    "    # does the folder exist? if not, create it\n",
    "    if not os.path.isdir(folder_name):\n",
    "        os.makedirs(folder_name)\n",
    "    \n",
    "    file_name_with_folder = f'{folder_name}/{file_name}'\n",
    "    print(f'saving source file data to {file_name_with_folder}')\n",
    "    \n",
    "    # open the file so that we can \"write\" to it\n",
    "    with open(file_name_with_folder, 'w') as data_file:\n",
    "        data_file.write(file_data)\n",
    "    \n",
    "    \n",
    "def save_data_file(file_name, file_data):\n",
    "    ''' like \"save_source_file\", create the \"data\" directory and save your csv to it\n",
    "        **notice the duplicate code in here and save_source_file() - there are ways we can clean this up**\n",
    "    '''\n",
    "    \n",
    "    folder_name = get_folder_name(\"data\")\n",
    "    \n",
    "    # does the folder exist? if not, create it\n",
    "    if not os.path.isdir(folder_name):\n",
    "        os.makedirs(folder_name)\n",
    "    \n",
    "    file_name_with_folder = f'{folder_name}/{file_name}'\n",
    "    print(f'saving source file data to {file_name_with_folder}')\n",
    "    \n",
    "    # open the file so that we can \"write\" to it    \n",
    "    with open(file_name_with_folder, 'w') as data_file:\n",
    "        data_file.write(file_data)\n",
    "    \n",
    "def fetch_and_save(url, file_name):\n",
    "    ''' fetch the URL and save it to a file\n",
    "    '''\n",
    "    \n",
    "    # fetch the data from the url\n",
    "    response = requests.get(url)\n",
    "    \n",
    "    # save the text (HTML, JSON, etc) to our \"source\" directory\n",
    "    save_source_file(file_name, response.text)\n",
    "\n",
    "    # return the respons object\n",
    "    return response\n",
    "\n",
    "def process_and_save(response):\n",
    "    ''' put your custom parsing code in here\n",
    "        and make sure you save your csv file(s) in here\n",
    "    '''\n",
    "    \n",
    "    # pass the HTML of our page into pandas read_html\n",
    "    tables = pandas.read_html(response.text)\n",
    "    print(len(tables))\n",
    "    \n",
    "    # take out the first file which is the cases file\n",
    "    cases_df = tables[0]\n",
    "    \n",
    "    print(cases_df)\n",
    "\n",
    "    # we can convert out dataframe to csv (as a string)\n",
    "    csv_data = cases_df.to_csv(index=False)\n",
    "    \n",
    "    # save our csv to a file\n",
    "    save_data_file(\"cases_by_county.csv\", csv_data)\n",
    "    \n",
    "    # if you wanted to save multiple dataframes, you can do that here\n",
    "    #save_data_file(\"cases_by_age.csv\", tables[1].to_csv(index=False))\n",
    "    \n",
    "    # return the dataframe\n",
    "    return cases_df\n",
    "    \n",
    "    \n",
    "    \n",
    "    "
   ]
  },
  {
   "cell_type": "code",
   "execution_count": null,
   "metadata": {},
   "outputs": [],
   "source": [
    "# michigan covid page\n",
    "url = 'https://www.michigan.gov/coronavirus/0,9753,7-406-98163_98173---,00.html'\n",
    "\n",
    "# fetch the URL, save the data to a file\n",
    "response = fetch_and_save(url, \"cases.html\")\n",
    "\n",
    "# do our custom processing and save it to csv file in this method\n",
    "df = process_and_save(response)\n"
   ]
  },
  {
   "cell_type": "code",
   "execution_count": null,
   "metadata": {},
   "outputs": [],
   "source": []
  }
 ],
 "metadata": {
  "kernelspec": {
   "display_name": "Python 3",
   "language": "python",
   "name": "python3"
  },
  "language_info": {
   "codemirror_mode": {
    "name": "ipython",
    "version": 3
   },
   "file_extension": ".py",
   "mimetype": "text/x-python",
   "name": "python",
   "nbconvert_exporter": "python",
   "pygments_lexer": "ipython3",
   "version": "3.7.1"
  }
 },
 "nbformat": 4,
 "nbformat_minor": 2
}
